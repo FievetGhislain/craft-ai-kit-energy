{
 "cells": [
  {
   "cell_type": "code",
   "execution_count": 2,
   "metadata": {},
   "outputs": [],
   "source": [
    "import pandas as pd\n",
    "import numpy as np\n",
    "import os"
   ]
  },
  {
   "cell_type": "code",
   "execution_count": 24,
   "metadata": {},
   "outputs": [
    {
     "name": "stderr",
     "output_type": "stream",
     "text": [
      "C:\\Users\\Claire\\AppData\\Local\\Continuum\\anaconda3\\envs\\energykit\\lib\\site-packages\\ipykernel_launcher.py:2: ParserWarning: Falling back to the 'python' engine because the 'c' engine does not support skipfooter; you can avoid this warning by specifying engine='python'.\n",
      "  \n"
     ]
    }
   ],
   "source": [
    "path = os.path.join(os.getcwd(),'data','energyCaroline')"
   ]
  },
  {
   "cell_type": "code",
   "execution_count": 51,
   "metadata": {},
   "outputs": [
    {
     "name": "stderr",
     "output_type": "stream",
     "text": [
      "C:\\Users\\Claire\\AppData\\Local\\Continuum\\anaconda3\\envs\\energykit\\lib\\site-packages\\ipykernel_launcher.py:1: ParserWarning: Falling back to the 'python' engine because the 'c' engine does not support skipfooter; you can avoid this warning by specifying engine='python'.\n",
      "  \"\"\"Entry point for launching an IPython kernel.\n"
     ]
    }
   ],
   "source": [
    "erdf = pd.read_csv(os.path.join(path, 'mois_ERDF_ODO_HDM.csv'), header=2, sep=\";\", skipfooter=35, skip_blank_lines=True)\n",
    "erdf = erdf[['Horodate','EAS F1','EAS D1', 'EAS T']]\n",
    "erdf2 = pd.read_csv(os.path.join(path, 'mois_ERDF_ODO_HDM.csv'), header=37, sep=\";\", skip_blank_lines=True)"
   ]
  },
  {
   "cell_type": "markdown",
   "metadata": {},
   "source": [
    "#### Informations sur les relevés Linky récupérés sur \n",
    "\n",
    "source : http://tonweb.fr/Files/Other/doc_aide_suivi_conso.pdf\n",
    "\n",
    " * **Horodate** : indique la date et l’heure de la relève des index. Les horodates sont fournies en heure légale de Paris.\n",
    " \n",
    " * **Type de relevé** : le type de relevé est fixe. La valeur sera toujours « arrêté quotidien ».\n",
    " \n",
    " * **EAS FX**  (1 <= X <= 10): correspond à la valeur de l’index relevé sur le poste X de la grille Fournisseur.\n",
    " Un index sert à mesurer la quantité d’énergie consommée dans le logement pour la\n",
    "facturation. L’énergie consommée est mesurée en permanence, mais son prix peut\n",
    "varier selon les périodes de la journée, de la semaine ou du mois. Pour chaque période\n",
    "tarifaire, on utilisera un index différent. Il peut y avoir, par exemple, un double index\n",
    "\"Heures Creuses\" / \"Heures Pleines\". Le compteur Linky permet de disposer de 10\n",
    "index pour les fournisseurs\n",
    "\n",
    " * **EAS DX** (1 <= X <= 4) : correspond à la valeur de l’index relevé sur le poste X de la grille Distributeur\n",
    "Depuis le 1er août 2015, l’ensemble des utilisateurs du réseau contribuent au\n",
    "financement des gestionnaires du réseau d’électricité, tels qu’ERDF. Ce financement\n",
    "est appelé Tarif d'Utilisation des Réseaux Publics d’Electricité (TURPE). Le TURPE est\n",
    "calculé sur la base d’une grille composée de quatre index (ou 4 postes), en fonction de\n",
    "la période de la journée, les saisons ou le mois.\n",
    "\n",
    " * **EAS T** : correspond à la valeur de l’index totalisateur (combinaison de l’énergie produite et de\n",
    "l’énergie consommée"
   ]
  },
  {
   "cell_type": "code",
   "execution_count": 52,
   "metadata": {},
   "outputs": [
    {
     "data": {
      "text/html": [
       "<div>\n",
       "<style scoped>\n",
       "    .dataframe tbody tr th:only-of-type {\n",
       "        vertical-align: middle;\n",
       "    }\n",
       "\n",
       "    .dataframe tbody tr th {\n",
       "        vertical-align: top;\n",
       "    }\n",
       "\n",
       "    .dataframe thead th {\n",
       "        text-align: right;\n",
       "    }\n",
       "</style>\n",
       "<table border=\"1\" class=\"dataframe\">\n",
       "  <thead>\n",
       "    <tr style=\"text-align: right;\">\n",
       "      <th></th>\n",
       "      <th>Horodate</th>\n",
       "      <th>EAS F1</th>\n",
       "      <th>EAS D1</th>\n",
       "      <th>EAS T</th>\n",
       "    </tr>\n",
       "  </thead>\n",
       "  <tbody>\n",
       "    <tr>\n",
       "      <th>0</th>\n",
       "      <td>2018-09-03T00:00:00+02:00</td>\n",
       "      <td>2252187</td>\n",
       "      <td>2252187</td>\n",
       "      <td>2252187</td>\n",
       "    </tr>\n",
       "    <tr>\n",
       "      <th>1</th>\n",
       "      <td>2018-09-04T00:00:00+02:00</td>\n",
       "      <td>2259904</td>\n",
       "      <td>2259904</td>\n",
       "      <td>2259904</td>\n",
       "    </tr>\n",
       "    <tr>\n",
       "      <th>2</th>\n",
       "      <td>2018-09-05T00:00:00+02:00</td>\n",
       "      <td>2264037</td>\n",
       "      <td>2264037</td>\n",
       "      <td>2264037</td>\n",
       "    </tr>\n",
       "    <tr>\n",
       "      <th>3</th>\n",
       "      <td>2018-09-06T00:00:00+02:00</td>\n",
       "      <td>2268342</td>\n",
       "      <td>2268342</td>\n",
       "      <td>2268342</td>\n",
       "    </tr>\n",
       "    <tr>\n",
       "      <th>4</th>\n",
       "      <td>2018-09-07T00:00:00+02:00</td>\n",
       "      <td>2275513</td>\n",
       "      <td>2275513</td>\n",
       "      <td>2275513</td>\n",
       "    </tr>\n",
       "  </tbody>\n",
       "</table>\n",
       "</div>"
      ],
      "text/plain": [
       "                    Horodate   EAS F1   EAS D1    EAS T\n",
       "0  2018-09-03T00:00:00+02:00  2252187  2252187  2252187\n",
       "1  2018-09-04T00:00:00+02:00  2259904  2259904  2259904\n",
       "2  2018-09-05T00:00:00+02:00  2264037  2264037  2264037\n",
       "3  2018-09-06T00:00:00+02:00  2268342  2268342  2268342\n",
       "4  2018-09-07T00:00:00+02:00  2275513  2275513  2275513"
      ]
     },
     "execution_count": 52,
     "metadata": {},
     "output_type": "execute_result"
    }
   ],
   "source": [
    "erdf.head()"
   ]
  },
  {
   "cell_type": "code",
   "execution_count": 53,
   "metadata": {},
   "outputs": [
    {
     "name": "stdout",
     "output_type": "stream",
     "text": [
      "30\n",
      "30\n"
     ]
    }
   ],
   "source": [
    "#No produced energy \n",
    "print((erdf['EAS D1'].values == erdf['EAS F1'].values).sum())\n",
    "print((erdf['EAS D1'].values == erdf['EAS T'].values).sum())"
   ]
  },
  {
   "cell_type": "code",
   "execution_count": 54,
   "metadata": {},
   "outputs": [],
   "source": [
    "erdf = erdf[['Horodate','EAS F1']].rename(columns={'Horodate':'date', 'EAS F1' : 'index_value'})\n",
    "erdf.index = pd.to_datetime(erdf['date'])"
   ]
  },
  {
   "cell_type": "code",
   "execution_count": 45,
   "metadata": {},
   "outputs": [
    {
     "data": {
      "text/html": [
       "<div>\n",
       "<style scoped>\n",
       "    .dataframe tbody tr th:only-of-type {\n",
       "        vertical-align: middle;\n",
       "    }\n",
       "\n",
       "    .dataframe tbody tr th {\n",
       "        vertical-align: top;\n",
       "    }\n",
       "\n",
       "    .dataframe thead th {\n",
       "        text-align: right;\n",
       "    }\n",
       "</style>\n",
       "<table border=\"1\" class=\"dataframe\">\n",
       "  <thead>\n",
       "    <tr style=\"text-align: right;\">\n",
       "      <th></th>\n",
       "      <th>date</th>\n",
       "      <th>index_value</th>\n",
       "    </tr>\n",
       "  </thead>\n",
       "  <tbody>\n",
       "    <tr>\n",
       "      <th>0</th>\n",
       "      <td>2018-09-03T00:00:00+02:00</td>\n",
       "      <td>2252187</td>\n",
       "    </tr>\n",
       "    <tr>\n",
       "      <th>1</th>\n",
       "      <td>2018-09-04T00:00:00+02:00</td>\n",
       "      <td>2259904</td>\n",
       "    </tr>\n",
       "    <tr>\n",
       "      <th>2</th>\n",
       "      <td>2018-09-05T00:00:00+02:00</td>\n",
       "      <td>2264037</td>\n",
       "    </tr>\n",
       "    <tr>\n",
       "      <th>3</th>\n",
       "      <td>2018-09-06T00:00:00+02:00</td>\n",
       "      <td>2268342</td>\n",
       "    </tr>\n",
       "    <tr>\n",
       "      <th>4</th>\n",
       "      <td>2018-09-07T00:00:00+02:00</td>\n",
       "      <td>2275513</td>\n",
       "    </tr>\n",
       "  </tbody>\n",
       "</table>\n",
       "</div>"
      ],
      "text/plain": [
       "                        date  index_value\n",
       "0  2018-09-03T00:00:00+02:00      2252187\n",
       "1  2018-09-04T00:00:00+02:00      2259904\n",
       "2  2018-09-05T00:00:00+02:00      2264037\n",
       "3  2018-09-06T00:00:00+02:00      2268342\n",
       "4  2018-09-07T00:00:00+02:00      2275513"
      ]
     },
     "execution_count": 45,
     "metadata": {},
     "output_type": "execute_result"
    }
   ],
   "source": [
    "erdf.head()"
   ]
  },
  {
   "cell_type": "code",
   "execution_count": 33,
   "metadata": {},
   "outputs": [
    {
     "data": {
      "text/html": [
       "<div>\n",
       "<style scoped>\n",
       "    .dataframe tbody tr th:only-of-type {\n",
       "        vertical-align: middle;\n",
       "    }\n",
       "\n",
       "    .dataframe tbody tr th {\n",
       "        vertical-align: top;\n",
       "    }\n",
       "\n",
       "    .dataframe thead th {\n",
       "        text-align: right;\n",
       "    }\n",
       "</style>\n",
       "<table border=\"1\" class=\"dataframe\">\n",
       "  <thead>\n",
       "    <tr style=\"text-align: right;\">\n",
       "      <th></th>\n",
       "      <th>Horodate</th>\n",
       "      <th>Valeur</th>\n",
       "    </tr>\n",
       "  </thead>\n",
       "  <tbody>\n",
       "    <tr>\n",
       "      <th>0</th>\n",
       "      <td>2018-09-02T14:19:09+02:00</td>\n",
       "      <td>4144</td>\n",
       "    </tr>\n",
       "    <tr>\n",
       "      <th>1</th>\n",
       "      <td>2018-09-03T19:08:24+02:00</td>\n",
       "      <td>3305</td>\n",
       "    </tr>\n",
       "    <tr>\n",
       "      <th>2</th>\n",
       "      <td>2018-09-04T07:02:31+02:00</td>\n",
       "      <td>1369</td>\n",
       "    </tr>\n",
       "    <tr>\n",
       "      <th>3</th>\n",
       "      <td>2018-09-05T23:43:27+02:00</td>\n",
       "      <td>1599</td>\n",
       "    </tr>\n",
       "    <tr>\n",
       "      <th>4</th>\n",
       "      <td>2018-09-06T20:10:12+02:00</td>\n",
       "      <td>3498</td>\n",
       "    </tr>\n",
       "  </tbody>\n",
       "</table>\n",
       "</div>"
      ],
      "text/plain": [
       "                    Horodate  Valeur\n",
       "0  2018-09-02T14:19:09+02:00    4144\n",
       "1  2018-09-03T19:08:24+02:00    3305\n",
       "2  2018-09-04T07:02:31+02:00    1369\n",
       "3  2018-09-05T23:43:27+02:00    1599\n",
       "4  2018-09-06T20:10:12+02:00    3498"
      ]
     },
     "execution_count": 33,
     "metadata": {},
     "output_type": "execute_result"
    }
   ],
   "source": [
    "erdf2.head()"
   ]
  },
  {
   "cell_type": "code",
   "execution_count": 36,
   "metadata": {},
   "outputs": [
    {
     "name": "stdout",
     "output_type": "stream",
     "text": [
      " erdf Dataset: 30 rows, 2 columns\n",
      "erdf2 Dataset: 30 rows, 3 columns\n"
     ]
    }
   ],
   "source": [
    "print(' erdf Dataset: {} rows, {} columns'.format(erdf2.shape[0],erdf2.shape[1]))\n",
    "print('erdf2 Dataset: {} rows, {} columns'.format(erdf.shape[0],erdf.shape[1]))"
   ]
  },
  {
   "cell_type": "code",
   "execution_count": null,
   "metadata": {},
   "outputs": [],
   "source": []
  }
 ],
 "metadata": {
  "kernelspec": {
   "display_name": "Python 3",
   "language": "python",
   "name": "python3"
  },
  "language_info": {
   "codemirror_mode": {
    "name": "ipython",
    "version": 3
   },
   "file_extension": ".py",
   "mimetype": "text/x-python",
   "name": "python",
   "nbconvert_exporter": "python",
   "pygments_lexer": "ipython3",
   "version": "3.6.6"
  }
 },
 "nbformat": 4,
 "nbformat_minor": 2
}
